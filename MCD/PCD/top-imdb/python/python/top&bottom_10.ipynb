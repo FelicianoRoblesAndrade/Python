{
 "cells": [
  {
   "cell_type": "code",
   "execution_count": 1,
   "id": "dd12ee93-4d6f-43e2-b545-fb1d09928288",
   "metadata": {},
   "outputs": [],
   "source": [
    "import pandas as pd\n",
    "import numpy as np\n",
    "import matplotlib.pyplot as plt\n",
    "import urllib.request as urllib2\n",
    "import tarfile\n",
    "import os.path\n",
    "import requests\n",
    "from os import path\n",
    "from bs4 import BeautifulSoup\n",
    "import time"
   ]
  },
  {
   "cell_type": "code",
   "execution_count": 2,
   "id": "54936a1a-00e2-47e0-9b30-bd62817cf300",
   "metadata": {},
   "outputs": [],
   "source": [
    "# Introducimos las funciones del modulo creado\n",
    "from module import cpm,title"
   ]
  },
  {
   "cell_type": "code",
   "execution_count": 3,
   "id": "911d577d-4a73-4b6b-98a3-e8b592373032",
   "metadata": {},
   "outputs": [
    {
     "name": "stdout",
     "output_type": "stream",
     "text": [
      "/home/jovyan/work/python/python\n"
     ]
    }
   ],
   "source": [
    "!pwd"
   ]
  },
  {
   "cell_type": "code",
   "execution_count": 4,
   "id": "79a9254c-3406-4d4e-9d34-bb21eb05a80e",
   "metadata": {},
   "outputs": [],
   "source": [
    "rt = urllib2.urlopen(\"https://ai.stanford.edu/~amaas/data/sentiment/aclImdb_v1.tar.gz\")\n",
    "csvzip = tarfile.open(fileobj=rt,mode='r:gz')\n",
    "csvzip.extractall()"
   ]
  },
  {
   "cell_type": "code",
   "execution_count": 5,
   "id": "4882945d-6ac8-470f-81c8-de7435cc11ed",
   "metadata": {},
   "outputs": [
    {
     "data": {
      "text/html": [
       "<div>\n",
       "<style scoped>\n",
       "    .dataframe tbody tr th:only-of-type {\n",
       "        vertical-align: middle;\n",
       "    }\n",
       "\n",
       "    .dataframe tbody tr th {\n",
       "        vertical-align: top;\n",
       "    }\n",
       "\n",
       "    .dataframe thead th {\n",
       "        text-align: right;\n",
       "    }\n",
       "</style>\n",
       "<table border=\"1\" class=\"dataframe\">\n",
       "  <thead>\n",
       "    <tr style=\"text-align: right;\">\n",
       "      <th></th>\n",
       "      <th>id</th>\n",
       "      <th>rating</th>\n",
       "    </tr>\n",
       "  </thead>\n",
       "  <tbody>\n",
       "    <tr>\n",
       "      <th>0</th>\n",
       "      <td>0453418</td>\n",
       "      <td>10</td>\n",
       "    </tr>\n",
       "    <tr>\n",
       "      <th>1</th>\n",
       "      <td>0453418</td>\n",
       "      <td>8</td>\n",
       "    </tr>\n",
       "    <tr>\n",
       "      <th>2</th>\n",
       "      <td>0453418</td>\n",
       "      <td>10</td>\n",
       "    </tr>\n",
       "    <tr>\n",
       "      <th>3</th>\n",
       "      <td>0064354</td>\n",
       "      <td>10</td>\n",
       "    </tr>\n",
       "    <tr>\n",
       "      <th>4</th>\n",
       "      <td>0064354</td>\n",
       "      <td>10</td>\n",
       "    </tr>\n",
       "  </tbody>\n",
       "</table>\n",
       "</div>"
      ],
      "text/plain": [
       "        id rating\n",
       "0  0453418     10\n",
       "1  0453418      8\n",
       "2  0453418     10\n",
       "3  0064354     10\n",
       "4  0064354     10"
      ]
     },
     "execution_count": 5,
     "metadata": {},
     "output_type": "execute_result"
    }
   ],
   "source": [
    "pos=os.listdir('aclImdb/train/pos') # List: Positive ratings of movies \n",
    "pos_url=cpm('aclImdb/train/urls_pos.txt') # List: Movie url of positive review\n",
    "df_pos=pd.DataFrame({'id':pos_url,'rating':pos}) # pd.df: Dataframe of dic \"rating\"\n",
    "df_pos.head()\n",
    "regex_rating=r'\\d+_(\\d{1,2})\\.txt' # We group the info we want to extract of the string in the first column\n",
    "df_pos['rating']=df_pos['rating'].str.extract(pat=regex_rating,expand=True) # We extract the id and rating of the original review id column\n",
    "regex_id=r'\\S+(\\d{7})\\/\\S+'  #'(tt\\d+)' # We group the info we want to extract of the string in the first column\n",
    "df_pos['id']=df_pos['id'].str.extract(pat=regex_id,expand=True) # We extract the id and rating of the original review id column\n",
    "df_pos.head()"
   ]
  },
  {
   "cell_type": "code",
   "execution_count": 6,
   "id": "34cf8506-492e-4117-9c63-05dfa2bb4599",
   "metadata": {},
   "outputs": [
    {
     "data": {
      "text/html": [
       "<div>\n",
       "<style scoped>\n",
       "    .dataframe tbody tr th:only-of-type {\n",
       "        vertical-align: middle;\n",
       "    }\n",
       "\n",
       "    .dataframe tbody tr th {\n",
       "        vertical-align: top;\n",
       "    }\n",
       "\n",
       "    .dataframe thead th {\n",
       "        text-align: right;\n",
       "    }\n",
       "</style>\n",
       "<table border=\"1\" class=\"dataframe\">\n",
       "  <thead>\n",
       "    <tr style=\"text-align: right;\">\n",
       "      <th></th>\n",
       "      <th>id</th>\n",
       "      <th>rating</th>\n",
       "    </tr>\n",
       "  </thead>\n",
       "  <tbody>\n",
       "    <tr>\n",
       "      <th>0</th>\n",
       "      <td>0064354</td>\n",
       "      <td>1</td>\n",
       "    </tr>\n",
       "    <tr>\n",
       "      <th>1</th>\n",
       "      <td>0100680</td>\n",
       "      <td>2</td>\n",
       "    </tr>\n",
       "    <tr>\n",
       "      <th>2</th>\n",
       "      <td>0100680</td>\n",
       "      <td>1</td>\n",
       "    </tr>\n",
       "    <tr>\n",
       "      <th>3</th>\n",
       "      <td>0100680</td>\n",
       "      <td>1</td>\n",
       "    </tr>\n",
       "    <tr>\n",
       "      <th>4</th>\n",
       "      <td>0047200</td>\n",
       "      <td>3</td>\n",
       "    </tr>\n",
       "  </tbody>\n",
       "</table>\n",
       "</div>"
      ],
      "text/plain": [
       "        id rating\n",
       "0  0064354      1\n",
       "1  0100680      2\n",
       "2  0100680      1\n",
       "3  0100680      1\n",
       "4  0047200      3"
      ]
     },
     "execution_count": 6,
     "metadata": {},
     "output_type": "execute_result"
    }
   ],
   "source": [
    "neg=os.listdir('aclImdb/train/neg') # List: Negative ratings of movies \n",
    "neg_url=cpm('aclImdb/train/urls_neg.txt') # List: Movie url of negative review\n",
    "df_neg=pd.DataFrame({'id':neg_url,'rating':neg}) # pd.df: Dataframe\n",
    "df_neg['rating']=df_neg['rating'].str.extract(pat=regex_rating,expand=True) # We extract the id and rating of the original review id column\n",
    "df_neg['id']=df_neg['id'].str.extract(pat=regex_id,expand=True) # We extract the id (7 digits of the url)\n",
    "df_neg.head()"
   ]
  },
  {
   "cell_type": "code",
   "execution_count": 7,
   "id": "adf178ec-8934-4f0d-825a-397d47e5e14b",
   "metadata": {},
   "outputs": [
    {
     "name": "stdout",
     "output_type": "stream",
     "text": [
      "rows=25000\n",
      "columns=2\n"
     ]
    },
    {
     "data": {
      "text/html": [
       "<div>\n",
       "<style scoped>\n",
       "    .dataframe tbody tr th:only-of-type {\n",
       "        vertical-align: middle;\n",
       "    }\n",
       "\n",
       "    .dataframe tbody tr th {\n",
       "        vertical-align: top;\n",
       "    }\n",
       "\n",
       "    .dataframe thead th {\n",
       "        text-align: right;\n",
       "    }\n",
       "</style>\n",
       "<table border=\"1\" class=\"dataframe\">\n",
       "  <thead>\n",
       "    <tr style=\"text-align: right;\">\n",
       "      <th></th>\n",
       "      <th>id</th>\n",
       "      <th>rating</th>\n",
       "    </tr>\n",
       "  </thead>\n",
       "  <tbody>\n",
       "    <tr>\n",
       "      <th>0</th>\n",
       "      <td>0453418</td>\n",
       "      <td>10</td>\n",
       "    </tr>\n",
       "    <tr>\n",
       "      <th>1</th>\n",
       "      <td>0453418</td>\n",
       "      <td>8</td>\n",
       "    </tr>\n",
       "    <tr>\n",
       "      <th>2</th>\n",
       "      <td>0453418</td>\n",
       "      <td>10</td>\n",
       "    </tr>\n",
       "    <tr>\n",
       "      <th>3</th>\n",
       "      <td>0064354</td>\n",
       "      <td>10</td>\n",
       "    </tr>\n",
       "    <tr>\n",
       "      <th>4</th>\n",
       "      <td>0064354</td>\n",
       "      <td>10</td>\n",
       "    </tr>\n",
       "  </tbody>\n",
       "</table>\n",
       "</div>"
      ],
      "text/plain": [
       "        id rating\n",
       "0  0453418     10\n",
       "1  0453418      8\n",
       "2  0453418     10\n",
       "3  0064354     10\n",
       "4  0064354     10"
      ]
     },
     "execution_count": 7,
     "metadata": {},
     "output_type": "execute_result"
    }
   ],
   "source": [
    "df_pn=pd.concat([df_pos,df_neg],ignore_index=True)\n",
    "print(f'rows={df_pn.shape[0]}\\ncolumns={df_pn.shape[1]}') # We check the size\n",
    "df_pn.head() # We get a preview of the index:id of the movie"
   ]
  },
  {
   "cell_type": "code",
   "execution_count": 8,
   "id": "7efda416-2382-4a05-94e6-637f8071241d",
   "metadata": {},
   "outputs": [
    {
     "data": {
      "text/plain": [
       "id         object\n",
       "rating    float64\n",
       "dtype: object"
      ]
     },
     "execution_count": 8,
     "metadata": {},
     "output_type": "execute_result"
    }
   ],
   "source": [
    "df_pn['rating']=df_pn['rating'].astype(float)\n",
    "df_pn.dtypes"
   ]
  },
  {
   "cell_type": "code",
   "execution_count": 9,
   "id": "d9c142d2-a3c7-41c9-a108-0b561de0720b",
   "metadata": {},
   "outputs": [],
   "source": [
    "df_top = df_pn.groupby('id')['rating'].mean().reset_index()\n",
    "df_top = df_top.sort_values(by='rating', ascending=False)#.reset_index(drop=True)\n",
    "#print(f'Tamaño del df con el promedio de ratings por pelicula:{df_top.shape}')\n",
    "best_10=df_top.head(10)\n",
    "worst_10=df_top.tail(10)\n",
    "#df_top['rating'].unique()"
   ]
  },
  {
   "cell_type": "code",
   "execution_count": 10,
   "id": "3ccd948a-6ea6-4f40-9058-a8951462dfa9",
   "metadata": {
    "scrolled": true
   },
   "outputs": [],
   "source": [
    "url_base = \"http://www.imdb.com/title/tt\"\n",
    "id_best=best_10['id'] # id of the titles of the top 10 movies\n",
    "#delay = 3  # 3-second delay between requests\n",
    "for i in id_best:\n",
    "    url=url_base+i # imdb url of the movies\n",
    "    tt=title(url)\n",
    "    best_10.loc[best_10['id']==i,'id']=tt\n",
    "best_10=best_10.rename(columns={'id':'title'})\n",
    "#time.sleep(delay) # delay"
   ]
  },
  {
   "cell_type": "code",
   "execution_count": 11,
   "id": "e23429ba-4f87-45f0-be61-0de613cc0045",
   "metadata": {},
   "outputs": [
    {
     "data": {
      "text/html": [
       "<div>\n",
       "<style scoped>\n",
       "    .dataframe tbody tr th:only-of-type {\n",
       "        vertical-align: middle;\n",
       "    }\n",
       "\n",
       "    .dataframe tbody tr th {\n",
       "        vertical-align: top;\n",
       "    }\n",
       "\n",
       "    .dataframe thead th {\n",
       "        text-align: right;\n",
       "    }\n",
       "</style>\n",
       "<table border=\"1\" class=\"dataframe\">\n",
       "  <thead>\n",
       "    <tr style=\"text-align: right;\">\n",
       "      <th></th>\n",
       "      <th>title</th>\n",
       "      <th>rating</th>\n",
       "    </tr>\n",
       "  </thead>\n",
       "  <tbody>\n",
       "    <tr>\n",
       "      <th>2299</th>\n",
       "      <td>Temptation Island</td>\n",
       "      <td>10.0</td>\n",
       "    </tr>\n",
       "    <tr>\n",
       "      <th>2392</th>\n",
       "      <td>Streets of Rage</td>\n",
       "      <td>10.0</td>\n",
       "    </tr>\n",
       "    <tr>\n",
       "      <th>521</th>\n",
       "      <td>Lock Up Your Daughters!</td>\n",
       "      <td>10.0</td>\n",
       "    </tr>\n",
       "    <tr>\n",
       "      <th>528</th>\n",
       "      <td>The Wedding Party</td>\n",
       "      <td>10.0</td>\n",
       "    </tr>\n",
       "    <tr>\n",
       "      <th>148</th>\n",
       "      <td>Pigs Is Pigs</td>\n",
       "      <td>10.0</td>\n",
       "    </tr>\n",
       "    <tr>\n",
       "      <th>2365</th>\n",
       "      <td>Eglimata</td>\n",
       "      <td>10.0</td>\n",
       "    </tr>\n",
       "    <tr>\n",
       "      <th>360</th>\n",
       "      <td>I, the Jury</td>\n",
       "      <td>10.0</td>\n",
       "    </tr>\n",
       "    <tr>\n",
       "      <th>1925</th>\n",
       "      <td>Little Men</td>\n",
       "      <td>10.0</td>\n",
       "    </tr>\n",
       "    <tr>\n",
       "      <th>704</th>\n",
       "      <td>The Great Smokey Roadblock</td>\n",
       "      <td>10.0</td>\n",
       "    </tr>\n",
       "    <tr>\n",
       "      <th>271</th>\n",
       "      <td>Desert Fury</td>\n",
       "      <td>10.0</td>\n",
       "    </tr>\n",
       "  </tbody>\n",
       "</table>\n",
       "</div>"
      ],
      "text/plain": [
       "                           title  rating\n",
       "2299           Temptation Island    10.0\n",
       "2392             Streets of Rage    10.0\n",
       "521      Lock Up Your Daughters!    10.0\n",
       "528            The Wedding Party    10.0\n",
       "148                 Pigs Is Pigs    10.0\n",
       "2365                    Eglimata    10.0\n",
       "360                  I, the Jury    10.0\n",
       "1925                  Little Men    10.0\n",
       "704   The Great Smokey Roadblock    10.0\n",
       "271                  Desert Fury    10.0"
      ]
     },
     "execution_count": 11,
     "metadata": {},
     "output_type": "execute_result"
    }
   ],
   "source": [
    "best_10"
   ]
  },
  {
   "cell_type": "code",
   "execution_count": 12,
   "id": "60b11787-3408-4127-8a5d-cdd84fefe120",
   "metadata": {},
   "outputs": [],
   "source": [
    "id_worst=worst_10['id'] # id of the titles of the top 10 movies\n",
    "#delay = 3  # 3-second delay between requests\n",
    "for i in id_worst:\n",
    "    url=url_base+i # imdb url of the movies\n",
    "    tt=title(url)\n",
    "    worst_10.loc[worst_10['id']==i,'id']=tt\n",
    "worst_10=worst_10.rename(columns={'id':'title'})\n",
    "#time.sleep(delay) # delay"
   ]
  },
  {
   "cell_type": "code",
   "execution_count": 13,
   "id": "049b016e-3b53-4fc4-8f58-c3e1fe3b79cd",
   "metadata": {},
   "outputs": [
    {
     "data": {
      "text/html": [
       "<div>\n",
       "<style scoped>\n",
       "    .dataframe tbody tr th:only-of-type {\n",
       "        vertical-align: middle;\n",
       "    }\n",
       "\n",
       "    .dataframe tbody tr th {\n",
       "        vertical-align: top;\n",
       "    }\n",
       "\n",
       "    .dataframe thead th {\n",
       "        text-align: right;\n",
       "    }\n",
       "</style>\n",
       "<table border=\"1\" class=\"dataframe\">\n",
       "  <thead>\n",
       "    <tr style=\"text-align: right;\">\n",
       "      <th></th>\n",
       "      <th>title</th>\n",
       "      <th>rating</th>\n",
       "    </tr>\n",
       "  </thead>\n",
       "  <tbody>\n",
       "    <tr>\n",
       "      <th>2748</th>\n",
       "      <td>Bullet Boy</td>\n",
       "      <td>1.0</td>\n",
       "    </tr>\n",
       "    <tr>\n",
       "      <th>2747</th>\n",
       "      <td>The Waystation: Prelude</td>\n",
       "      <td>1.0</td>\n",
       "    </tr>\n",
       "    <tr>\n",
       "      <th>879</th>\n",
       "      <td>Polyester</td>\n",
       "      <td>1.0</td>\n",
       "    </tr>\n",
       "    <tr>\n",
       "      <th>2731</th>\n",
       "      <td>Touching Evil</td>\n",
       "      <td>1.0</td>\n",
       "    </tr>\n",
       "    <tr>\n",
       "      <th>2730</th>\n",
       "      <td>The Panel</td>\n",
       "      <td>1.0</td>\n",
       "    </tr>\n",
       "    <tr>\n",
       "      <th>2729</th>\n",
       "      <td>Saturday's Warrior</td>\n",
       "      <td>1.0</td>\n",
       "    </tr>\n",
       "    <tr>\n",
       "      <th>2728</th>\n",
       "      <td>Public Domain</td>\n",
       "      <td>1.0</td>\n",
       "    </tr>\n",
       "    <tr>\n",
       "      <th>2727</th>\n",
       "      <td>Look Both Ways</td>\n",
       "      <td>1.0</td>\n",
       "    </tr>\n",
       "    <tr>\n",
       "      <th>2724</th>\n",
       "      <td>Harvie Krumpet</td>\n",
       "      <td>1.0</td>\n",
       "    </tr>\n",
       "    <tr>\n",
       "      <th>3455</th>\n",
       "      <td>No Regret</td>\n",
       "      <td>1.0</td>\n",
       "    </tr>\n",
       "  </tbody>\n",
       "</table>\n",
       "</div>"
      ],
      "text/plain": [
       "                        title  rating\n",
       "2748               Bullet Boy     1.0\n",
       "2747  The Waystation: Prelude     1.0\n",
       "879                 Polyester     1.0\n",
       "2731            Touching Evil     1.0\n",
       "2730                The Panel     1.0\n",
       "2729       Saturday's Warrior     1.0\n",
       "2728            Public Domain     1.0\n",
       "2727           Look Both Ways     1.0\n",
       "2724           Harvie Krumpet     1.0\n",
       "3455                No Regret     1.0"
      ]
     },
     "execution_count": 13,
     "metadata": {},
     "output_type": "execute_result"
    }
   ],
   "source": [
    "worst_10"
   ]
  }
 ],
 "metadata": {
  "kernelspec": {
   "display_name": "Python 3 (ipykernel)",
   "language": "python",
   "name": "python3"
  },
  "language_info": {
   "codemirror_mode": {
    "name": "ipython",
    "version": 3
   },
   "file_extension": ".py",
   "mimetype": "text/x-python",
   "name": "python",
   "nbconvert_exporter": "python",
   "pygments_lexer": "ipython3",
   "version": "3.11.6"
  }
 },
 "nbformat": 4,
 "nbformat_minor": 5
}
