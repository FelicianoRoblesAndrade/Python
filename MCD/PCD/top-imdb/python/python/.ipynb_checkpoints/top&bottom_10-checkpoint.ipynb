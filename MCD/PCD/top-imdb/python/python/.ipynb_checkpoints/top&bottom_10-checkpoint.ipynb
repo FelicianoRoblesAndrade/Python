{
 "cells": [
  {
   "cell_type": "code",
   "execution_count": 4,
   "id": "dd12ee93-4d6f-43e2-b545-fb1d09928288",
   "metadata": {},
   "outputs": [],
   "source": [
    "import pandas as pd\n",
    "import numpy as np\n",
    "import matplotlib.pyplot as plt\n",
    "import urllib.request as urllib2\n",
    "import tarfile\n",
    "import os.path\n",
    "import requests\n",
    "from os import path\n",
    "from bs4 import BeautifulSoup\n",
    "import time"
   ]
  },
  {
   "cell_type": "code",
   "execution_count": 5,
   "id": "911d577d-4a73-4b6b-98a3-e8b592373032",
   "metadata": {},
   "outputs": [
    {
     "name": "stdout",
     "output_type": "stream",
     "text": [
      "/home/jovyan/work/python\n"
     ]
    }
   ],
   "source": [
    "!pwd"
   ]
  },
  {
   "cell_type": "code",
   "execution_count": 6,
   "id": "79a9254c-3406-4d4e-9d34-bb21eb05a80e",
   "metadata": {},
   "outputs": [],
   "source": [
    "rt = urllib2.urlopen(\"https://ai.stanford.edu/~amaas/data/sentiment/aclImdb_v1.tar.gz\")\n",
    "csvzip = tarfile.open(fileobj=rt,mode='r:gz')\n",
    "csvzip.extractall()"
   ]
  },
  {
   "cell_type": "code",
   "execution_count": 9,
   "id": "cb4e0bc7-6d26-45ed-a9e0-d498318cab99",
   "metadata": {},
   "outputs": [
    {
     "name": "stdout",
     "output_type": "stream",
     "text": [
      "rows=25000\n",
      "columns=2\n"
     ]
    },
    {
     "data": {
      "text/html": [
       "<div>\n",
       "<style scoped>\n",
       "    .dataframe tbody tr th:only-of-type {\n",
       "        vertical-align: middle;\n",
       "    }\n",
       "\n",
       "    .dataframe tbody tr th {\n",
       "        vertical-align: top;\n",
       "    }\n",
       "\n",
       "    .dataframe thead th {\n",
       "        text-align: right;\n",
       "    }\n",
       "</style>\n",
       "<table border=\"1\" class=\"dataframe\">\n",
       "  <thead>\n",
       "    <tr style=\"text-align: right;\">\n",
       "      <th></th>\n",
       "      <th>title</th>\n",
       "      <th>rating</th>\n",
       "    </tr>\n",
       "  </thead>\n",
       "  <tbody>\n",
       "    <tr>\n",
       "      <th>0</th>\n",
       "      <td>6118</td>\n",
       "      <td>10</td>\n",
       "    </tr>\n",
       "    <tr>\n",
       "      <th>1</th>\n",
       "      <td>1824</td>\n",
       "      <td>8</td>\n",
       "    </tr>\n",
       "    <tr>\n",
       "      <th>2</th>\n",
       "      <td>821</td>\n",
       "      <td>10</td>\n",
       "    </tr>\n",
       "    <tr>\n",
       "      <th>3</th>\n",
       "      <td>7919</td>\n",
       "      <td>10</td>\n",
       "    </tr>\n",
       "    <tr>\n",
       "      <th>4</th>\n",
       "      <td>10829</td>\n",
       "      <td>10</td>\n",
       "    </tr>\n",
       "  </tbody>\n",
       "</table>\n",
       "</div>"
      ],
      "text/plain": [
       "   title rating\n",
       "0   6118     10\n",
       "1   1824      8\n",
       "2    821     10\n",
       "3   7919     10\n",
       "4  10829     10"
      ]
     },
     "execution_count": 9,
     "metadata": {},
     "output_type": "execute_result"
    }
   ],
   "source": [
    "pos=os.listdir('aclImdb/train/pos') # List: Positive ratings of movies \n",
    "neg=os.listdir('aclImdb/train/neg') # List: Positive ratings of movies\n",
    "rating = {'title': pos+neg} # dic: Positive ratings, following negative ratings\n",
    "df=pd.DataFrame(data=rating) # pd.df: Dataframe of dic \"rating\"\n",
    "regex=r'(\\d+)_(\\d{1,2})\\.txt' # We group the info we want to extract of the string in the first column\n",
    "df[['title','rating']]=df['title'].str.extract(pat=regex,expand=True) # We extract the title and rating of the original title column\n",
    "print(f'rows={df.shape[0]}\\ncolumns={df.shape[1]}') # We check the size\n",
    "df.head() # We get a preview"
   ]
  },
  {
   "cell_type": "code",
   "execution_count": 10,
   "id": "8a53b391-6f49-4c16-91ed-16641f3eb0a2",
   "metadata": {},
   "outputs": [],
   "source": [
    "def cpm(path): # content per line of a text file\n",
    "    with open(path, 'r', encoding='utf-8') as file:\n",
    "        content = file.read() \n",
    "        lines = content.splitlines()  # List: content per line\n",
    "        return lines"
   ]
  },
  {
   "cell_type": "code",
   "execution_count": 11,
   "id": "ec0cfb98-d3e8-46ae-84e8-e3a78d4d6fa2",
   "metadata": {},
   "outputs": [
    {
     "name": "stdout",
     "output_type": "stream",
     "text": [
      "rows=25000\n",
      "columns=1\n"
     ]
    },
    {
     "data": {
      "text/html": [
       "<div>\n",
       "<style scoped>\n",
       "    .dataframe tbody tr th:only-of-type {\n",
       "        vertical-align: middle;\n",
       "    }\n",
       "\n",
       "    .dataframe tbody tr th {\n",
       "        vertical-align: top;\n",
       "    }\n",
       "\n",
       "    .dataframe thead th {\n",
       "        text-align: right;\n",
       "    }\n",
       "</style>\n",
       "<table border=\"1\" class=\"dataframe\">\n",
       "  <thead>\n",
       "    <tr style=\"text-align: right;\">\n",
       "      <th></th>\n",
       "      <th>0</th>\n",
       "    </tr>\n",
       "  </thead>\n",
       "  <tbody>\n",
       "    <tr>\n",
       "      <th>0</th>\n",
       "      <td>0453418</td>\n",
       "    </tr>\n",
       "    <tr>\n",
       "      <th>1</th>\n",
       "      <td>0453418</td>\n",
       "    </tr>\n",
       "    <tr>\n",
       "      <th>2</th>\n",
       "      <td>0453418</td>\n",
       "    </tr>\n",
       "    <tr>\n",
       "      <th>3</th>\n",
       "      <td>0064354</td>\n",
       "    </tr>\n",
       "    <tr>\n",
       "      <th>4</th>\n",
       "      <td>0064354</td>\n",
       "    </tr>\n",
       "  </tbody>\n",
       "</table>\n",
       "</div>"
      ],
      "text/plain": [
       "         0\n",
       "0  0453418\n",
       "1  0453418\n",
       "2  0453418\n",
       "3  0064354\n",
       "4  0064354"
      ]
     },
     "execution_count": 11,
     "metadata": {},
     "output_type": "execute_result"
    }
   ],
   "source": [
    "pos_url=cpm('aclImdb/train/urls_pos.txt') # List: Movie url of positive review\n",
    "neg_url=cpm('aclImdb/train/urls_neg.txt') # List: Movie url of negative review\n",
    "pn_url={'url': pos_url+neg_url} # dic: Positive urls, following by negative urls\n",
    "df_url=pd.DataFrame(data=pn_url) # pd.df: Dataframe of dic \"pn_url\"\n",
    "regex=r'\\S+(\\d{7})\\/\\S+'  #'(tt\\d+)' # We group the info we want to extract of the string in the first column\n",
    "df_url=df_url['url'].str.extract(pat=regex,expand=True) # We extract the title and rating of the original title column\n",
    "print(f'rows={df_url.shape[0]}\\ncolumns={df_url.shape[1]}') # We check the size\n",
    "df_url.head() # We get a preview"
   ]
  },
  {
   "cell_type": "code",
   "execution_count": 19,
   "id": "8bd6e6f7-4b4c-442f-ac61-28fae1c0a991",
   "metadata": {},
   "outputs": [
    {
     "data": {
      "text/html": [
       "<div>\n",
       "<style scoped>\n",
       "    .dataframe tbody tr th:only-of-type {\n",
       "        vertical-align: middle;\n",
       "    }\n",
       "\n",
       "    .dataframe tbody tr th {\n",
       "        vertical-align: top;\n",
       "    }\n",
       "\n",
       "    .dataframe thead th {\n",
       "        text-align: right;\n",
       "    }\n",
       "</style>\n",
       "<table border=\"1\" class=\"dataframe\">\n",
       "  <thead>\n",
       "    <tr style=\"text-align: right;\">\n",
       "      <th></th>\n",
       "      <th>title</th>\n",
       "    </tr>\n",
       "  </thead>\n",
       "  <tbody>\n",
       "    <tr>\n",
       "      <th>0</th>\n",
       "      <td>6118_10.txt</td>\n",
       "    </tr>\n",
       "    <tr>\n",
       "      <th>1</th>\n",
       "      <td>1824_8.txt</td>\n",
       "    </tr>\n",
       "    <tr>\n",
       "      <th>2</th>\n",
       "      <td>821_10.txt</td>\n",
       "    </tr>\n",
       "    <tr>\n",
       "      <th>3</th>\n",
       "      <td>7919_10.txt</td>\n",
       "    </tr>\n",
       "    <tr>\n",
       "      <th>4</th>\n",
       "      <td>10829_10.txt</td>\n",
       "    </tr>\n",
       "  </tbody>\n",
       "</table>\n",
       "</div>"
      ],
      "text/plain": [
       "          title\n",
       "0   6118_10.txt\n",
       "1    1824_8.txt\n",
       "2    821_10.txt\n",
       "3   7919_10.txt\n",
       "4  10829_10.txt"
      ]
     },
     "execution_count": 19,
     "metadata": {},
     "output_type": "execute_result"
    }
   ],
   "source": [
    "df_txt.head() # We get a preview"
   ]
  },
  {
   "cell_type": "code",
   "execution_count": 18,
   "id": "6a085783-2ac7-4e93-af74-4643ea3c80a5",
   "metadata": {},
   "outputs": [],
   "source": [
    "rating = {'title': pos+neg} # dic: Positive ratings, following negative ratings\n",
    "df_txt=pd.DataFrame(data=rating) # pd.df: Dataframe of dic \"rating\"\n",
    "regex=r'(\\d+)_(\\d{1,2})\\.txt' # We group the info we want to extract of the string in the first column"
   ]
  },
  {
   "cell_type": "code",
   "execution_count": 20,
   "id": "7550358f-bc4b-432f-9eb9-47d19b284a0e",
   "metadata": {},
   "outputs": [
    {
     "ename": "KeyError",
     "evalue": "0",
     "output_type": "error",
     "traceback": [
      "\u001b[0;31m---------------------------------------------------------------------------\u001b[0m",
      "\u001b[0;31mKeyError\u001b[0m                                  Traceback (most recent call last)",
      "File \u001b[0;32m/opt/conda/lib/python3.11/site-packages/pandas/core/indexes/base.py:3790\u001b[0m, in \u001b[0;36mIndex.get_loc\u001b[0;34m(self, key)\u001b[0m\n\u001b[1;32m   3789\u001b[0m \u001b[38;5;28;01mtry\u001b[39;00m:\n\u001b[0;32m-> 3790\u001b[0m     \u001b[38;5;28;01mreturn\u001b[39;00m \u001b[38;5;28;43mself\u001b[39;49m\u001b[38;5;241;43m.\u001b[39;49m\u001b[43m_engine\u001b[49m\u001b[38;5;241;43m.\u001b[39;49m\u001b[43mget_loc\u001b[49m\u001b[43m(\u001b[49m\u001b[43mcasted_key\u001b[49m\u001b[43m)\u001b[49m\n\u001b[1;32m   3791\u001b[0m \u001b[38;5;28;01mexcept\u001b[39;00m \u001b[38;5;167;01mKeyError\u001b[39;00m \u001b[38;5;28;01mas\u001b[39;00m err:\n",
      "File \u001b[0;32mindex.pyx:152\u001b[0m, in \u001b[0;36mpandas._libs.index.IndexEngine.get_loc\u001b[0;34m()\u001b[0m\n",
      "File \u001b[0;32mindex.pyx:181\u001b[0m, in \u001b[0;36mpandas._libs.index.IndexEngine.get_loc\u001b[0;34m()\u001b[0m\n",
      "File \u001b[0;32mpandas/_libs/hashtable_class_helper.pxi:7080\u001b[0m, in \u001b[0;36mpandas._libs.hashtable.PyObjectHashTable.get_item\u001b[0;34m()\u001b[0m\n",
      "File \u001b[0;32mpandas/_libs/hashtable_class_helper.pxi:7088\u001b[0m, in \u001b[0;36mpandas._libs.hashtable.PyObjectHashTable.get_item\u001b[0;34m()\u001b[0m\n",
      "\u001b[0;31mKeyError\u001b[0m: 0",
      "\nThe above exception was the direct cause of the following exception:\n",
      "\u001b[0;31mKeyError\u001b[0m                                  Traceback (most recent call last)",
      "Cell \u001b[0;32mIn[20], line 2\u001b[0m\n\u001b[1;32m      1\u001b[0m regex\u001b[38;5;241m=\u001b[39m\u001b[38;5;124m'\u001b[39m\u001b[38;5;124mtt(\u001b[39m\u001b[38;5;124m\\\u001b[39m\u001b[38;5;124md+)\u001b[39m\u001b[38;5;124m'\u001b[39m\n\u001b[0;32m----> 2\u001b[0m \u001b[38;5;28mid\u001b[39m\u001b[38;5;241m=\u001b[39m\u001b[43mdf_txt\u001b[49m\u001b[43m[\u001b[49m\u001b[38;5;241;43m0\u001b[39;49m\u001b[43m]\u001b[49m\u001b[38;5;241m.\u001b[39mstr\u001b[38;5;241m.\u001b[39msplit(pat\u001b[38;5;241m=\u001b[39mregex,expand\u001b[38;5;241m=\u001b[39m\u001b[38;5;28;01mTrue\u001b[39;00m)[\u001b[38;5;241m1\u001b[39m] \u001b[38;5;66;03m# id\u001b[39;00m\n",
      "File \u001b[0;32m/opt/conda/lib/python3.11/site-packages/pandas/core/frame.py:3896\u001b[0m, in \u001b[0;36mDataFrame.__getitem__\u001b[0;34m(self, key)\u001b[0m\n\u001b[1;32m   3894\u001b[0m \u001b[38;5;28;01mif\u001b[39;00m \u001b[38;5;28mself\u001b[39m\u001b[38;5;241m.\u001b[39mcolumns\u001b[38;5;241m.\u001b[39mnlevels \u001b[38;5;241m>\u001b[39m \u001b[38;5;241m1\u001b[39m:\n\u001b[1;32m   3895\u001b[0m     \u001b[38;5;28;01mreturn\u001b[39;00m \u001b[38;5;28mself\u001b[39m\u001b[38;5;241m.\u001b[39m_getitem_multilevel(key)\n\u001b[0;32m-> 3896\u001b[0m indexer \u001b[38;5;241m=\u001b[39m \u001b[38;5;28;43mself\u001b[39;49m\u001b[38;5;241;43m.\u001b[39;49m\u001b[43mcolumns\u001b[49m\u001b[38;5;241;43m.\u001b[39;49m\u001b[43mget_loc\u001b[49m\u001b[43m(\u001b[49m\u001b[43mkey\u001b[49m\u001b[43m)\u001b[49m\n\u001b[1;32m   3897\u001b[0m \u001b[38;5;28;01mif\u001b[39;00m is_integer(indexer):\n\u001b[1;32m   3898\u001b[0m     indexer \u001b[38;5;241m=\u001b[39m [indexer]\n",
      "File \u001b[0;32m/opt/conda/lib/python3.11/site-packages/pandas/core/indexes/base.py:3797\u001b[0m, in \u001b[0;36mIndex.get_loc\u001b[0;34m(self, key)\u001b[0m\n\u001b[1;32m   3792\u001b[0m     \u001b[38;5;28;01mif\u001b[39;00m \u001b[38;5;28misinstance\u001b[39m(casted_key, \u001b[38;5;28mslice\u001b[39m) \u001b[38;5;129;01mor\u001b[39;00m (\n\u001b[1;32m   3793\u001b[0m         \u001b[38;5;28misinstance\u001b[39m(casted_key, abc\u001b[38;5;241m.\u001b[39mIterable)\n\u001b[1;32m   3794\u001b[0m         \u001b[38;5;129;01mand\u001b[39;00m \u001b[38;5;28many\u001b[39m(\u001b[38;5;28misinstance\u001b[39m(x, \u001b[38;5;28mslice\u001b[39m) \u001b[38;5;28;01mfor\u001b[39;00m x \u001b[38;5;129;01min\u001b[39;00m casted_key)\n\u001b[1;32m   3795\u001b[0m     ):\n\u001b[1;32m   3796\u001b[0m         \u001b[38;5;28;01mraise\u001b[39;00m InvalidIndexError(key)\n\u001b[0;32m-> 3797\u001b[0m     \u001b[38;5;28;01mraise\u001b[39;00m \u001b[38;5;167;01mKeyError\u001b[39;00m(key) \u001b[38;5;28;01mfrom\u001b[39;00m \u001b[38;5;21;01merr\u001b[39;00m\n\u001b[1;32m   3798\u001b[0m \u001b[38;5;28;01mexcept\u001b[39;00m \u001b[38;5;167;01mTypeError\u001b[39;00m:\n\u001b[1;32m   3799\u001b[0m     \u001b[38;5;66;03m# If we have a listlike key, _check_indexing_error will raise\u001b[39;00m\n\u001b[1;32m   3800\u001b[0m     \u001b[38;5;66;03m#  InvalidIndexError. Otherwise we fall through and re-raise\u001b[39;00m\n\u001b[1;32m   3801\u001b[0m     \u001b[38;5;66;03m#  the TypeError.\u001b[39;00m\n\u001b[1;32m   3802\u001b[0m     \u001b[38;5;28mself\u001b[39m\u001b[38;5;241m.\u001b[39m_check_indexing_error(key)\n",
      "\u001b[0;31mKeyError\u001b[0m: 0"
     ]
    }
   ],
   "source": [
    "regex='tt(\\d+)'\n",
    "id=df_txt[0].str.split(pat=regex,expand=True)[1] # id"
   ]
  },
  {
   "cell_type": "code",
   "execution_count": 21,
   "id": "2f2435d9-d3a3-4366-81ba-6630086c161d",
   "metadata": {},
   "outputs": [],
   "source": [
    "def title(url):\n",
    "    # Definir encabezados para la solicitud\n",
    "    headers = {\n",
    "        \"User-Agent\": \"Mozilla/5.0 (Windows NT 10.0; Win64; x64) AppleWebKit/537.36 (KHTML, like Gecko) Chrome/93.0.4577.63 Safari/537.36\",\n",
    "        \"Accept\": \"text/html,application/xhtml+xml,application/xml;q=0.9,image/webp,image/apng,*/*;q=0.8\",\n",
    "        \"Accept-Encoding\": \"gzip, deflate, br\",\n",
    "        \"Accept-Language\": \"en-US,en;q=0.9\",\n",
    "        \"Connection\": \"keep-alive\",\n",
    "        \"Upgrade-Insecure-Requests\": \"1\"\n",
    "    }\n",
    "    \n",
    "    # Obtener el contenido de la página web\n",
    "    webpage = requests.get(url, headers=headers)\n",
    "    \n",
    "    # Revisar si la solicitud fue exitosa\n",
    "    if webpage.status_code == 200:\n",
    "        soup = BeautifulSoup(webpage.content, \"html.parser\")\n",
    "        # Extraer el título de la película\n",
    "        title_tag = soup.find(\"h1\")\n",
    "        movie_title = title_tag.get_text(strip=True) if title_tag else \"Título no encontrado\"\n",
    "    return movie_title"
   ]
  },
  {
   "cell_type": "code",
   "execution_count": 22,
   "id": "3ccd948a-6ea6-4f40-9058-a8951462dfa9",
   "metadata": {},
   "outputs": [
    {
     "ename": "NameError",
     "evalue": "name 'titulo' is not defined",
     "output_type": "error",
     "traceback": [
      "\u001b[0;31m---------------------------------------------------------------------------\u001b[0m",
      "\u001b[0;31mNameError\u001b[0m                                 Traceback (most recent call last)",
      "Cell \u001b[0;32mIn[22], line 2\u001b[0m\n\u001b[1;32m      1\u001b[0m url \u001b[38;5;241m=\u001b[39m \u001b[38;5;124m\"\u001b[39m\u001b[38;5;124mhttp://www.imdb.com/title/tt0453418\u001b[39m\u001b[38;5;124m\"\u001b[39m\n\u001b[0;32m----> 2\u001b[0m title\u001b[38;5;241m=\u001b[39m\u001b[43mtitulo\u001b[49m(url)\n\u001b[1;32m      3\u001b[0m \u001b[38;5;28mprint\u001b[39m(title)\n\u001b[1;32m      5\u001b[0m \u001b[38;5;66;03m# Delay between requests (in seconds)\u001b[39;00m\n",
      "\u001b[0;31mNameError\u001b[0m: name 'titulo' is not defined"
     ]
    }
   ],
   "source": [
    "url = \"http://www.imdb.com/title/tt0453418\"\n",
    "title=title(url)\n",
    "print(title)\n",
    "\n",
    "# Delay between requests (in seconds)\n",
    "delay = 3  # 3-second delay between requests\n",
    "time.sleep(delay)"
   ]
  },
  {
   "cell_type": "code",
   "execution_count": null,
   "id": "b8ba50dc-54c4-4ec7-9d0b-2ea3b869c941",
   "metadata": {},
   "outputs": [],
   "source": [
    "# Delay between requests (in seconds)\n",
    "    #if j==2:\n",
    "    #    break\n",
    "#delay = 1  # 3-second delay between requests\n",
    "#tt.head()# lista de id\n",
    "tt2=[]\n",
    "for i in range(0,3):\n",
    "    tt2=title(df_tt2[i])\n",
    "    tt.append(a)\n",
    "    if i==2:\n",
    "        break\n",
    "    #time.sleep(delay)"
   ]
  },
  {
   "cell_type": "code",
   "execution_count": null,
   "id": "6eff999d-fe47-43cc-9081-7c284c0fd280",
   "metadata": {},
   "outputs": [],
   "source": [
    "d = {'id': id[0:3], 'title': tt2}\n",
    "\n",
    "df = pd.DataFrame(data=d)\n",
    "\n",
    "df"
   ]
  }
 ],
 "metadata": {
  "kernelspec": {
   "display_name": "Python 3 (ipykernel)",
   "language": "python",
   "name": "python3"
  },
  "language_info": {
   "codemirror_mode": {
    "name": "ipython",
    "version": 3
   },
   "file_extension": ".py",
   "mimetype": "text/x-python",
   "name": "python",
   "nbconvert_exporter": "python",
   "pygments_lexer": "ipython3",
   "version": "3.11.6"
  }
 },
 "nbformat": 4,
 "nbformat_minor": 5
}
