{
  "nbformat": 4,
  "nbformat_minor": 0,
  "metadata": {
    "colab": {
      "provenance": []
    },
    "kernelspec": {
      "name": "python3",
      "display_name": "Python 3"
    },
    "language_info": {
      "name": "python"
    }
  },
  "cells": [
    {
      "cell_type": "markdown",
      "source": [
        "**Objetivo:** Con base a la información proporcionada en el sitio antes mencionado, obtener el porcentaje de agua superficial contaminada en el estado de Sonora."
      ],
      "metadata": {
        "id": "hkBxMN7trgUD"
      }
    },
    {
      "cell_type": "markdown",
      "source": [
        "Iniciamos importando los datos que se pueden obtener en la pagina del gobierno de mexico \"https://www.gob.mx/conagua/articulos/calidad-del-agua\", mas espcificamente, el url especifico que nos permite obtener directamente el archivo de excel que se tiene para el año 2023 en este caso es: \"https://www.gob.mx/cms/uploads/attachment/file/936143/Calidad_del_Agua_Superficial_a.xlsx\", utilizando el paquete de pandas entonces, guardamos los valores en un dataframe."
      ],
      "metadata": {
        "id": "DimlnSsyrnkY"
      }
    },
    {
      "cell_type": "code",
      "execution_count": 1,
      "metadata": {
        "id": "81LyeAGHgrIX"
      },
      "outputs": [],
      "source": [
        "import pandas as pd\n",
        "df=pd.read_excel('https://www.gob.mx/cms/uploads/attachment/file/936143/Calidad_del_Agua_Superficial_a.xlsx')#,header=1"
      ]
    },
    {
      "cell_type": "markdown",
      "source": [
        "Cuyas columnas han sido definidas en la pagina del gobierno, pero para verificar que esten como se definieron en dicha pagina, obtenemos los encabezados de cada columna de nuestro dataframe"
      ],
      "metadata": {
        "id": "Y1qfXEIhtzSQ"
      }
    },
    {
      "cell_type": "code",
      "source": [
        "print(df.columns)"
      ],
      "metadata": {
        "colab": {
          "base_uri": "https://localhost:8080/"
        },
        "id": "M_7Er2vzt9Wu",
        "outputId": "d3ca1aed-b916-4835-cfdf-96a04e67e1bc"
      },
      "execution_count": 2,
      "outputs": [
        {
          "output_type": "stream",
          "name": "stdout",
          "text": [
            "Index(['CLAVE', 'SITIO', 'ORGANISMO_DE_CUENCA', 'ESTADO', 'MUNICIPIO',\n",
            "       'CUENCA', 'CUERPO DE AGUA', 'TIPO', 'SUBTIPO', 'LONGITUD', 'LATITUD',\n",
            "       'PERIODO', 'DBO_mg/L', 'CALIDAD_DBO', 'DQO_mg/L', 'CALIDAD_DQO',\n",
            "       'SST_mg/L', 'CALIDAD_SST', 'COLI_FEC_NMP_100mL', 'CALIDAD_COLI_FEC',\n",
            "       'E_COLI_NMP_100mL', 'CALIDAD_E_COLI', 'ENTEROC_NMP_100mL',\n",
            "       'CALIDAD_ENTEROC', 'OD_PORC', 'CALIDAD_OD_PORC', 'OD_PORC_SUP',\n",
            "       'CALIDAD_OD_PORC_SUP', 'OD_PORC_MED', 'CALIDAD_OD_PORC_MED',\n",
            "       'OD_PORC_FON', 'CALIDAD_OD_PORC_FON', 'TOX_D_48_UT', 'CALIDAD_TOX_D_48',\n",
            "       'TOX_V_15_UT', 'CALIDAD_TOX_V_15', 'TOX_D_48_SUP_UT',\n",
            "       'CALIDAD TOX_D_48_SUP', 'TOX_D_48_FON_UT', 'CALIDAD_TOX_D_48_FON',\n",
            "       'TOX_FIS_SUP_15_UT', 'CALIDAD_TOX_FIS_SUP_15', 'TOX_FIS_FON_15_UT',\n",
            "       'CALIDAD_TOX_FIS_FON_15', 'SEMAFORO', 'CONTAMINANTES'],\n",
            "      dtype='object')\n"
          ]
        }
      ]
    },
    {
      "cell_type": "markdown",
      "source": [
        "Nos intereza solamente el porcentaje de agua contaminada del estado de sonora.\n",
        "\n",
        "Para el agua contaminada se tiene que se tomaron 8 parámetros indicadores, con sus correspondientes porcentajes, asi como un semáforo de calidad del agua superficial que considera 3 colores: verde, cuando hay cumplimiento de los 8 indicadores; amarillo cuando se incumple uno o más de los siguientes parámetros: E_COLI, CF, SST y OD%; rojo cuando existe incumplimiento en uno o más de los siguientes parámetros: DBO₅, DQO, TOX y ENTEROC_FEC.\n",
        "\n",
        "Por lo que las unicas columnas de interes serian la de estado y la de estado, por lo que procedemos a imprimir eso mismo."
      ],
      "metadata": {
        "id": "syqERADyt_ex"
      }
    },
    {
      "cell_type": "code",
      "source": [
        "dfS = df[['ESTADO', 'SEMAFORO']].copy()\n",
        "print(dfS)"
      ],
      "metadata": {
        "colab": {
          "base_uri": "https://localhost:8080/"
        },
        "id": "TI9amFAXj-sj",
        "outputId": "cf5d7afa-ccce-4350-a813-89ae07e031c8"
      },
      "execution_count": 4,
      "outputs": [
        {
          "output_type": "stream",
          "name": "stdout",
          "text": [
            "               ESTADO  SEMAFORO\n",
            "0      AGUASCALIENTES      Rojo\n",
            "1      AGUASCALIENTES      Rojo\n",
            "2      AGUASCALIENTES      Rojo\n",
            "3      AGUASCALIENTES      Rojo\n",
            "4      AGUASCALIENTES      Rojo\n",
            "..                ...       ...\n",
            "445        NUEVO LEON      Rojo\n",
            "446        NUEVO LEON      Rojo\n",
            "447        NUEVO LEON     Verde\n",
            "448  CIUDAD DE MEXICO  Amarillo\n",
            "449  CIUDAD DE MEXICO     Verde\n",
            "\n",
            "[450 rows x 2 columns]\n"
          ]
        }
      ]
    },
    {
      "cell_type": "markdown",
      "source": [
        "Ahora, solamente nos quedamos con aquellos que sean de Sonora"
      ],
      "metadata": {
        "id": "8iRgVmwTwhH1"
      }
    },
    {
      "cell_type": "code",
      "source": [
        "dfs = dfS[(dfS['ESTADO']=='SONORA')]\n",
        "print(dfs)"
      ],
      "metadata": {
        "id": "oTfMiEghhoyH",
        "colab": {
          "base_uri": "https://localhost:8080/"
        },
        "outputId": "e5ce1372-668d-4544-cbe9-d7fff53053fa"
      },
      "execution_count": 7,
      "outputs": [
        {
          "output_type": "stream",
          "name": "stdout",
          "text": [
            "     ESTADO SEMAFORO\n",
            "264  SONORA    Verde\n",
            "434  SONORA    Verde\n",
            "435  SONORA    Verde\n"
          ]
        }
      ]
    },
    {
      "cell_type": "markdown",
      "source": [
        "Por lo que los lugares de Sonora que se investigaron, todos estan en el nivel verde de contaminacion, por lo que podriamos concluir que el agua esta limpia bajo a los lineamientos de la pagina donde sacamos los datos."
      ],
      "metadata": {
        "id": "wryfTleQysfM"
      }
    }
  ]
}